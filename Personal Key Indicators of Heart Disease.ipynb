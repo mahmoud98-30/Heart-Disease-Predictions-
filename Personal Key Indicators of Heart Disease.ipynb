{
 "cells":[
  {
   "cell_type":"markdown",
   "source":[
    "# Import Libraries"
   ],
   "attachments":{
    
   },
   "metadata":{
    "datalore":{
     "type":"MD",
     "hide_input_from_viewers":false,
     "hide_output_from_viewers":false
    }
   }
  },
  {
   "cell_type":"code",
   "source":[
    "import numpy as np\n",
    "import pandas as pd\n",
    "import matplotlib.pyplot as plt\n",
    "import seaborn as sns"
   ],
   "execution_count":1,
   "outputs":[
    
   ],
   "metadata":{
    "datalore":{
     "type":"CODE",
     "hide_input_from_viewers":false,
     "hide_output_from_viewers":false
    }
   }
  },
  {
   "cell_type":"code",
   "source":[
    "import imblearn.under_sampling\n",
    "from sklearn.model_selection import train_test_split\n",
    "from sklearn.metrics import classification_report, roc_curve, roc_auc_score\n",
    "from sklearn.linear_model import LogisticRegression\n",
    "from sklearn.metrics import classification_report"
   ],
   "execution_count":2,
   "outputs":[
    
   ],
   "metadata":{
    "datalore":{
     "type":"CODE",
     "hide_input_from_viewers":false,
     "hide_output_from_viewers":false
    }
   }
  },
  {
   "cell_type":"markdown",
   "source":[
    "# Read Data"
   ],
   "attachments":{
    
   },
   "metadata":{
    "datalore":{
     "type":"MD",
     "hide_input_from_viewers":false,
     "hide_output_from_viewers":false
    }
   }
  },
  {
   "cell_type":"code",
   "source":[
    "data = pd.read_csv(\"heart_2020_cleaned.csv\")"
   ],
   "execution_count":3,
   "outputs":[
    
   ],
   "metadata":{
    "datalore":{
     "type":"CODE",
     "hide_input_from_viewers":false,
     "hide_output_from_viewers":false
    }
   }
  },
  {
   "cell_type":"code",
   "source":[
    "data.head()"
   ],
   "execution_count":4,
   "outputs":[
    {
     "data":{
      "text\/html":[
       "<div>\n",
       "<style scoped>\n",
       "    .dataframe tbody tr th:only-of-type {\n",
       "        vertical-align: middle;\n",
       "    }\n",
       "\n",
       "    .dataframe tbody tr th {\n",
       "        vertical-align: top;\n",
       "    }\n",
       "\n",
       "    .dataframe thead th {\n",
       "        text-align: right;\n",
       "    }\n",
       "<\/style>\n",
       "<table border=\"1\" class=\"dataframe\">\n",
       "  <thead>\n",
       "    <tr style=\"text-align: right;\">\n",
       "      <th><\/th>\n",
       "      <th>HeartDisease<\/th>\n",
       "      <th>BMI<\/th>\n",
       "      <th>Smoking<\/th>\n",
       "      <th>AlcoholDrinking<\/th>\n",
       "      <th>Stroke<\/th>\n",
       "      <th>PhysicalHealth<\/th>\n",
       "      <th>MentalHealth<\/th>\n",
       "      <th>DiffWalking<\/th>\n",
       "      <th>Sex<\/th>\n",
       "      <th>AgeCategory<\/th>\n",
       "      <th>Race<\/th>\n",
       "      <th>Diabetic<\/th>\n",
       "      <th>PhysicalActivity<\/th>\n",
       "      <th>GenHealth<\/th>\n",
       "      <th>SleepTime<\/th>\n",
       "      <th>Asthma<\/th>\n",
       "      <th>KidneyDisease<\/th>\n",
       "      <th>SkinCancer<\/th>\n",
       "    <\/tr>\n",
       "  <\/thead>\n",
       "  <tbody>\n",
       "    <tr>\n",
       "      <th>0<\/th>\n",
       "      <td>No<\/td>\n",
       "      <td>16.60<\/td>\n",
       "      <td>Yes<\/td>\n",
       "      <td>No<\/td>\n",
       "      <td>No<\/td>\n",
       "      <td>3.0<\/td>\n",
       "      <td>30.0<\/td>\n",
       "      <td>No<\/td>\n",
       "      <td>Female<\/td>\n",
       "      <td>55-59<\/td>\n",
       "      <td>White<\/td>\n",
       "      <td>Yes<\/td>\n",
       "      <td>Yes<\/td>\n",
       "      <td>Very good<\/td>\n",
       "      <td>5.0<\/td>\n",
       "      <td>Yes<\/td>\n",
       "      <td>No<\/td>\n",
       "      <td>Yes<\/td>\n",
       "    <\/tr>\n",
       "    <tr>\n",
       "      <th>1<\/th>\n",
       "      <td>No<\/td>\n",
       "      <td>20.34<\/td>\n",
       "      <td>No<\/td>\n",
       "      <td>No<\/td>\n",
       "      <td>Yes<\/td>\n",
       "      <td>0.0<\/td>\n",
       "      <td>0.0<\/td>\n",
       "      <td>No<\/td>\n",
       "      <td>Female<\/td>\n",
       "      <td>80 or older<\/td>\n",
       "      <td>White<\/td>\n",
       "      <td>No<\/td>\n",
       "      <td>Yes<\/td>\n",
       "      <td>Very good<\/td>\n",
       "      <td>7.0<\/td>\n",
       "      <td>No<\/td>\n",
       "      <td>No<\/td>\n",
       "      <td>No<\/td>\n",
       "    <\/tr>\n",
       "    <tr>\n",
       "      <th>2<\/th>\n",
       "      <td>No<\/td>\n",
       "      <td>26.58<\/td>\n",
       "      <td>Yes<\/td>\n",
       "      <td>No<\/td>\n",
       "      <td>No<\/td>\n",
       "      <td>20.0<\/td>\n",
       "      <td>30.0<\/td>\n",
       "      <td>No<\/td>\n",
       "      <td>Male<\/td>\n",
       "      <td>65-69<\/td>\n",
       "      <td>White<\/td>\n",
       "      <td>Yes<\/td>\n",
       "      <td>Yes<\/td>\n",
       "      <td>Fair<\/td>\n",
       "      <td>8.0<\/td>\n",
       "      <td>Yes<\/td>\n",
       "      <td>No<\/td>\n",
       "      <td>No<\/td>\n",
       "    <\/tr>\n",
       "    <tr>\n",
       "      <th>3<\/th>\n",
       "      <td>No<\/td>\n",
       "      <td>24.21<\/td>\n",
       "      <td>No<\/td>\n",
       "      <td>No<\/td>\n",
       "      <td>No<\/td>\n",
       "      <td>0.0<\/td>\n",
       "      <td>0.0<\/td>\n",
       "      <td>No<\/td>\n",
       "      <td>Female<\/td>\n",
       "      <td>75-79<\/td>\n",
       "      <td>White<\/td>\n",
       "      <td>No<\/td>\n",
       "      <td>No<\/td>\n",
       "      <td>Good<\/td>\n",
       "      <td>6.0<\/td>\n",
       "      <td>No<\/td>\n",
       "      <td>No<\/td>\n",
       "      <td>Yes<\/td>\n",
       "    <\/tr>\n",
       "    <tr>\n",
       "      <th>4<\/th>\n",
       "      <td>No<\/td>\n",
       "      <td>23.71<\/td>\n",
       "      <td>No<\/td>\n",
       "      <td>No<\/td>\n",
       "      <td>No<\/td>\n",
       "      <td>28.0<\/td>\n",
       "      <td>0.0<\/td>\n",
       "      <td>Yes<\/td>\n",
       "      <td>Female<\/td>\n",
       "      <td>40-44<\/td>\n",
       "      <td>White<\/td>\n",
       "      <td>No<\/td>\n",
       "      <td>Yes<\/td>\n",
       "      <td>Very good<\/td>\n",
       "      <td>8.0<\/td>\n",
       "      <td>No<\/td>\n",
       "      <td>No<\/td>\n",
       "      <td>No<\/td>\n",
       "    <\/tr>\n",
       "  <\/tbody>\n",
       "<\/table>\n",
       "<\/div>"
      ]
     },
     "metadata":{
      
     },
     "output_type":"display_data"
    }
   ],
   "metadata":{
    "datalore":{
     "type":"CODE",
     "hide_input_from_viewers":false,
     "hide_output_from_viewers":false
    }
   }
  },
  {
   "cell_type":"code",
   "source":[
    "data.describe(include=\"all\")"
   ],
   "execution_count":5,
   "outputs":[
    {
     "data":{
      "text\/html":[
       "<div>\n",
       "<style scoped>\n",
       "    .dataframe tbody tr th:only-of-type {\n",
       "        vertical-align: middle;\n",
       "    }\n",
       "\n",
       "    .dataframe tbody tr th {\n",
       "        vertical-align: top;\n",
       "    }\n",
       "\n",
       "    .dataframe thead th {\n",
       "        text-align: right;\n",
       "    }\n",
       "<\/style>\n",
       "<table border=\"1\" class=\"dataframe\">\n",
       "  <thead>\n",
       "    <tr style=\"text-align: right;\">\n",
       "      <th><\/th>\n",
       "      <th>HeartDisease<\/th>\n",
       "      <th>BMI<\/th>\n",
       "      <th>Smoking<\/th>\n",
       "      <th>AlcoholDrinking<\/th>\n",
       "      <th>Stroke<\/th>\n",
       "      <th>PhysicalHealth<\/th>\n",
       "      <th>MentalHealth<\/th>\n",
       "      <th>DiffWalking<\/th>\n",
       "      <th>Sex<\/th>\n",
       "      <th>AgeCategory<\/th>\n",
       "      <th>Race<\/th>\n",
       "      <th>Diabetic<\/th>\n",
       "      <th>PhysicalActivity<\/th>\n",
       "      <th>GenHealth<\/th>\n",
       "      <th>SleepTime<\/th>\n",
       "      <th>Asthma<\/th>\n",
       "      <th>KidneyDisease<\/th>\n",
       "      <th>SkinCancer<\/th>\n",
       "    <\/tr>\n",
       "  <\/thead>\n",
       "  <tbody>\n",
       "    <tr>\n",
       "      <th>count<\/th>\n",
       "      <td>319795<\/td>\n",
       "      <td>319795.000000<\/td>\n",
       "      <td>319795<\/td>\n",
       "      <td>319795<\/td>\n",
       "      <td>319795<\/td>\n",
       "      <td>319795.00000<\/td>\n",
       "      <td>319795.000000<\/td>\n",
       "      <td>319795<\/td>\n",
       "      <td>319795<\/td>\n",
       "      <td>319795<\/td>\n",
       "      <td>319795<\/td>\n",
       "      <td>319795<\/td>\n",
       "      <td>319795<\/td>\n",
       "      <td>319795<\/td>\n",
       "      <td>319795.000000<\/td>\n",
       "      <td>319795<\/td>\n",
       "      <td>319795<\/td>\n",
       "      <td>319795<\/td>\n",
       "    <\/tr>\n",
       "    <tr>\n",
       "      <th>unique<\/th>\n",
       "      <td>2<\/td>\n",
       "      <td>NaN<\/td>\n",
       "      <td>2<\/td>\n",
       "      <td>2<\/td>\n",
       "      <td>2<\/td>\n",
       "      <td>NaN<\/td>\n",
       "      <td>NaN<\/td>\n",
       "      <td>2<\/td>\n",
       "      <td>2<\/td>\n",
       "      <td>13<\/td>\n",
       "      <td>6<\/td>\n",
       "      <td>4<\/td>\n",
       "      <td>2<\/td>\n",
       "      <td>5<\/td>\n",
       "      <td>NaN<\/td>\n",
       "      <td>2<\/td>\n",
       "      <td>2<\/td>\n",
       "      <td>2<\/td>\n",
       "    <\/tr>\n",
       "    <tr>\n",
       "      <th>top<\/th>\n",
       "      <td>No<\/td>\n",
       "      <td>NaN<\/td>\n",
       "      <td>No<\/td>\n",
       "      <td>No<\/td>\n",
       "      <td>No<\/td>\n",
       "      <td>NaN<\/td>\n",
       "      <td>NaN<\/td>\n",
       "      <td>No<\/td>\n",
       "      <td>Female<\/td>\n",
       "      <td>65-69<\/td>\n",
       "      <td>White<\/td>\n",
       "      <td>No<\/td>\n",
       "      <td>Yes<\/td>\n",
       "      <td>Very good<\/td>\n",
       "      <td>NaN<\/td>\n",
       "      <td>No<\/td>\n",
       "      <td>No<\/td>\n",
       "      <td>No<\/td>\n",
       "    <\/tr>\n",
       "    <tr>\n",
       "      <th>freq<\/th>\n",
       "      <td>292422<\/td>\n",
       "      <td>NaN<\/td>\n",
       "      <td>187887<\/td>\n",
       "      <td>298018<\/td>\n",
       "      <td>307726<\/td>\n",
       "      <td>NaN<\/td>\n",
       "      <td>NaN<\/td>\n",
       "      <td>275385<\/td>\n",
       "      <td>167805<\/td>\n",
       "      <td>34151<\/td>\n",
       "      <td>245212<\/td>\n",
       "      <td>269653<\/td>\n",
       "      <td>247957<\/td>\n",
       "      <td>113858<\/td>\n",
       "      <td>NaN<\/td>\n",
       "      <td>276923<\/td>\n",
       "      <td>308016<\/td>\n",
       "      <td>289976<\/td>\n",
       "    <\/tr>\n",
       "    <tr>\n",
       "      <th>mean<\/th>\n",
       "      <td>NaN<\/td>\n",
       "      <td>28.325399<\/td>\n",
       "      <td>NaN<\/td>\n",
       "      <td>NaN<\/td>\n",
       "      <td>NaN<\/td>\n",
       "      <td>3.37171<\/td>\n",
       "      <td>3.898366<\/td>\n",
       "      <td>NaN<\/td>\n",
       "      <td>NaN<\/td>\n",
       "      <td>NaN<\/td>\n",
       "      <td>NaN<\/td>\n",
       "      <td>NaN<\/td>\n",
       "      <td>NaN<\/td>\n",
       "      <td>NaN<\/td>\n",
       "      <td>7.097075<\/td>\n",
       "      <td>NaN<\/td>\n",
       "      <td>NaN<\/td>\n",
       "      <td>NaN<\/td>\n",
       "    <\/tr>\n",
       "    <tr>\n",
       "      <th>std<\/th>\n",
       "      <td>NaN<\/td>\n",
       "      <td>6.356100<\/td>\n",
       "      <td>NaN<\/td>\n",
       "      <td>NaN<\/td>\n",
       "      <td>NaN<\/td>\n",
       "      <td>7.95085<\/td>\n",
       "      <td>7.955235<\/td>\n",
       "      <td>NaN<\/td>\n",
       "      <td>NaN<\/td>\n",
       "      <td>NaN<\/td>\n",
       "      <td>NaN<\/td>\n",
       "      <td>NaN<\/td>\n",
       "      <td>NaN<\/td>\n",
       "      <td>NaN<\/td>\n",
       "      <td>1.436007<\/td>\n",
       "      <td>NaN<\/td>\n",
       "      <td>NaN<\/td>\n",
       "      <td>NaN<\/td>\n",
       "    <\/tr>\n",
       "    <tr>\n",
       "      <th>min<\/th>\n",
       "      <td>NaN<\/td>\n",
       "      <td>12.020000<\/td>\n",
       "      <td>NaN<\/td>\n",
       "      <td>NaN<\/td>\n",
       "      <td>NaN<\/td>\n",
       "      <td>0.00000<\/td>\n",
       "      <td>0.000000<\/td>\n",
       "      <td>NaN<\/td>\n",
       "      <td>NaN<\/td>\n",
       "      <td>NaN<\/td>\n",
       "      <td>NaN<\/td>\n",
       "      <td>NaN<\/td>\n",
       "      <td>NaN<\/td>\n",
       "      <td>NaN<\/td>\n",
       "      <td>1.000000<\/td>\n",
       "      <td>NaN<\/td>\n",
       "      <td>NaN<\/td>\n",
       "      <td>NaN<\/td>\n",
       "    <\/tr>\n",
       "    <tr>\n",
       "      <th>25%<\/th>\n",
       "      <td>NaN<\/td>\n",
       "      <td>24.030000<\/td>\n",
       "      <td>NaN<\/td>\n",
       "      <td>NaN<\/td>\n",
       "      <td>NaN<\/td>\n",
       "      <td>0.00000<\/td>\n",
       "      <td>0.000000<\/td>\n",
       "      <td>NaN<\/td>\n",
       "      <td>NaN<\/td>\n",
       "      <td>NaN<\/td>\n",
       "      <td>NaN<\/td>\n",
       "      <td>NaN<\/td>\n",
       "      <td>NaN<\/td>\n",
       "      <td>NaN<\/td>\n",
       "      <td>6.000000<\/td>\n",
       "      <td>NaN<\/td>\n",
       "      <td>NaN<\/td>\n",
       "      <td>NaN<\/td>\n",
       "    <\/tr>\n",
       "    <tr>\n",
       "      <th>50%<\/th>\n",
       "      <td>NaN<\/td>\n",
       "      <td>27.340000<\/td>\n",
       "      <td>NaN<\/td>\n",
       "      <td>NaN<\/td>\n",
       "      <td>NaN<\/td>\n",
       "      <td>0.00000<\/td>\n",
       "      <td>0.000000<\/td>\n",
       "      <td>NaN<\/td>\n",
       "      <td>NaN<\/td>\n",
       "      <td>NaN<\/td>\n",
       "      <td>NaN<\/td>\n",
       "      <td>NaN<\/td>\n",
       "      <td>NaN<\/td>\n",
       "      <td>NaN<\/td>\n",
       "      <td>7.000000<\/td>\n",
       "      <td>NaN<\/td>\n",
       "      <td>NaN<\/td>\n",
       "      <td>NaN<\/td>\n",
       "    <\/tr>\n",
       "    <tr>\n",
       "      <th>75%<\/th>\n",
       "      <td>NaN<\/td>\n",
       "      <td>31.420000<\/td>\n",
       "      <td>NaN<\/td>\n",
       "      <td>NaN<\/td>\n",
       "      <td>NaN<\/td>\n",
       "      <td>2.00000<\/td>\n",
       "      <td>3.000000<\/td>\n",
       "      <td>NaN<\/td>\n",
       "      <td>NaN<\/td>\n",
       "      <td>NaN<\/td>\n",
       "      <td>NaN<\/td>\n",
       "      <td>NaN<\/td>\n",
       "      <td>NaN<\/td>\n",
       "      <td>NaN<\/td>\n",
       "      <td>8.000000<\/td>\n",
       "      <td>NaN<\/td>\n",
       "      <td>NaN<\/td>\n",
       "      <td>NaN<\/td>\n",
       "    <\/tr>\n",
       "    <tr>\n",
       "      <th>max<\/th>\n",
       "      <td>NaN<\/td>\n",
       "      <td>94.850000<\/td>\n",
       "      <td>NaN<\/td>\n",
       "      <td>NaN<\/td>\n",
       "      <td>NaN<\/td>\n",
       "      <td>30.00000<\/td>\n",
       "      <td>30.000000<\/td>\n",
       "      <td>NaN<\/td>\n",
       "      <td>NaN<\/td>\n",
       "      <td>NaN<\/td>\n",
       "      <td>NaN<\/td>\n",
       "      <td>NaN<\/td>\n",
       "      <td>NaN<\/td>\n",
       "      <td>NaN<\/td>\n",
       "      <td>24.000000<\/td>\n",
       "      <td>NaN<\/td>\n",
       "      <td>NaN<\/td>\n",
       "      <td>NaN<\/td>\n",
       "    <\/tr>\n",
       "  <\/tbody>\n",
       "<\/table>\n",
       "<\/div>"
      ]
     },
     "metadata":{
      
     },
     "output_type":"display_data"
    }
   ],
   "metadata":{
    "datalore":{
     "type":"CODE",
     "hide_input_from_viewers":false,
     "hide_output_from_viewers":false
    }
   }
  },
  {
   "cell_type":"code",
   "source":[
    "for feature in data.columns:\n",
    "    print(feature)\n",
    "    print(data[feature].unique(),\"\\n\")"
   ],
   "execution_count":6,
   "outputs":[
    {
     "name":"stdout",
     "text":[
      "HeartDisease\n",
      "['No' 'Yes'] \n",
      "\n",
      "BMI\n",
      "[16.6  20.34 26.58 ... 62.42 51.46 46.56] \n",
      "\n",
      "Smoking\n",
      "['Yes' 'No'] \n",
      "\n",
      "AlcoholDrinking\n",
      "['No' 'Yes'] \n",
      "\n",
      "Stroke\n",
      "['No' 'Yes'] \n",
      "\n",
      "PhysicalHealth\n",
      "[ 3.  0. 20. 28.  6. 15.  5. 30.  7.  1.  2. 21.  4. 10. 14. 18.  8. 25.\n",
      " 16. 29. 27. 17. 24. 12. 23. 26. 22. 19.  9. 13. 11.] \n",
      "\n",
      "MentalHealth\n",
      "[30.  0.  2.  5. 15.  8.  4.  3. 10. 14. 20.  1.  7. 24.  9. 28. 16. 12.\n",
      "  6. 25. 17. 18. 21. 29. 22. 13. 23. 27. 26. 11. 19.] \n",
      "\n",
      "DiffWalking\n",
      "['No' 'Yes'] \n",
      "\n",
      "Sex\n",
      "['Female' 'Male'] \n",
      "\n",
      "AgeCategory\n",
      "['55-59' '80 or older' '65-69' '75-79' '40-44' '70-74' '60-64' '50-54'\n",
      " '45-49' '18-24' '35-39' '30-34' '25-29'] \n",
      "\n",
      "Race\n",
      "['White' 'Black' 'Asian' 'American Indian\/Alaskan Native' 'Other'\n",
      " 'Hispanic'] \n",
      "\n",
      "Diabetic\n",
      "['Yes' 'No' 'No, borderline diabetes' 'Yes (during pregnancy)'] \n",
      "\n",
      "PhysicalActivity\n",
      "['Yes' 'No'] \n",
      "\n",
      "GenHealth\n",
      "['Very good' 'Fair' 'Good' 'Poor' 'Excellent'] \n",
      "\n",
      "SleepTime\n",
      "[ 5.  7.  8.  6. 12.  4.  9. 10. 15.  3.  2.  1. 16. 18. 14. 20. 11. 13.\n",
      " 17. 24. 19. 21. 22. 23.] \n",
      "\n",
      "Asthma\n",
      "['Yes' 'No'] \n",
      "\n",
      "KidneyDisease\n",
      "['No' 'Yes'] \n",
      "\n",
      "SkinCancer\n",
      "['Yes' 'No'] \n",
      "\n"
     ],
     "output_type":"stream"
    }
   ],
   "metadata":{
    "datalore":{
     "type":"CODE",
     "hide_input_from_viewers":false,
     "hide_output_from_viewers":false
    }
   }
  },
  {
   "cell_type":"code",
   "source":[
    "data.dtypes"
   ],
   "execution_count":7,
   "outputs":[
    {
     "data":{
      "text\/html":[
       
      ]
     },
     "metadata":{
      
     },
     "output_type":"display_data"
    }
   ],
   "metadata":{
    "datalore":{
     "type":"CODE",
     "hide_input_from_viewers":false,
     "hide_output_from_viewers":false
    }
   }
  },
  {
   "cell_type":"code",
   "source":[
    "obj_data = data.select_dtypes(include=['object']).copy()\n",
    "obj_data.head()"
   ],
   "execution_count":8,
   "outputs":[
    {
     "data":{
      "text\/html":[
       "<div>\n",
       "<style scoped>\n",
       "    .dataframe tbody tr th:only-of-type {\n",
       "        vertical-align: middle;\n",
       "    }\n",
       "\n",
       "    .dataframe tbody tr th {\n",
       "        vertical-align: top;\n",
       "    }\n",
       "\n",
       "    .dataframe thead th {\n",
       "        text-align: right;\n",
       "    }\n",
       "<\/style>\n",
       "<table border=\"1\" class=\"dataframe\">\n",
       "  <thead>\n",
       "    <tr style=\"text-align: right;\">\n",
       "      <th><\/th>\n",
       "      <th>HeartDisease<\/th>\n",
       "      <th>Smoking<\/th>\n",
       "      <th>AlcoholDrinking<\/th>\n",
       "      <th>Stroke<\/th>\n",
       "      <th>DiffWalking<\/th>\n",
       "      <th>Sex<\/th>\n",
       "      <th>AgeCategory<\/th>\n",
       "      <th>Race<\/th>\n",
       "      <th>Diabetic<\/th>\n",
       "      <th>PhysicalActivity<\/th>\n",
       "      <th>GenHealth<\/th>\n",
       "      <th>Asthma<\/th>\n",
       "      <th>KidneyDisease<\/th>\n",
       "      <th>SkinCancer<\/th>\n",
       "    <\/tr>\n",
       "  <\/thead>\n",
       "  <tbody>\n",
       "    <tr>\n",
       "      <th>0<\/th>\n",
       "      <td>No<\/td>\n",
       "      <td>Yes<\/td>\n",
       "      <td>No<\/td>\n",
       "      <td>No<\/td>\n",
       "      <td>No<\/td>\n",
       "      <td>Female<\/td>\n",
       "      <td>55-59<\/td>\n",
       "      <td>White<\/td>\n",
       "      <td>Yes<\/td>\n",
       "      <td>Yes<\/td>\n",
       "      <td>Very good<\/td>\n",
       "      <td>Yes<\/td>\n",
       "      <td>No<\/td>\n",
       "      <td>Yes<\/td>\n",
       "    <\/tr>\n",
       "    <tr>\n",
       "      <th>1<\/th>\n",
       "      <td>No<\/td>\n",
       "      <td>No<\/td>\n",
       "      <td>No<\/td>\n",
       "      <td>Yes<\/td>\n",
       "      <td>No<\/td>\n",
       "      <td>Female<\/td>\n",
       "      <td>80 or older<\/td>\n",
       "      <td>White<\/td>\n",
       "      <td>No<\/td>\n",
       "      <td>Yes<\/td>\n",
       "      <td>Very good<\/td>\n",
       "      <td>No<\/td>\n",
       "      <td>No<\/td>\n",
       "      <td>No<\/td>\n",
       "    <\/tr>\n",
       "    <tr>\n",
       "      <th>2<\/th>\n",
       "      <td>No<\/td>\n",
       "      <td>Yes<\/td>\n",
       "      <td>No<\/td>\n",
       "      <td>No<\/td>\n",
       "      <td>No<\/td>\n",
       "      <td>Male<\/td>\n",
       "      <td>65-69<\/td>\n",
       "      <td>White<\/td>\n",
       "      <td>Yes<\/td>\n",
       "      <td>Yes<\/td>\n",
       "      <td>Fair<\/td>\n",
       "      <td>Yes<\/td>\n",
       "      <td>No<\/td>\n",
       "      <td>No<\/td>\n",
       "    <\/tr>\n",
       "    <tr>\n",
       "      <th>3<\/th>\n",
       "      <td>No<\/td>\n",
       "      <td>No<\/td>\n",
       "      <td>No<\/td>\n",
       "      <td>No<\/td>\n",
       "      <td>No<\/td>\n",
       "      <td>Female<\/td>\n",
       "      <td>75-79<\/td>\n",
       "      <td>White<\/td>\n",
       "      <td>No<\/td>\n",
       "      <td>No<\/td>\n",
       "      <td>Good<\/td>\n",
       "      <td>No<\/td>\n",
       "      <td>No<\/td>\n",
       "      <td>Yes<\/td>\n",
       "    <\/tr>\n",
       "    <tr>\n",
       "      <th>4<\/th>\n",
       "      <td>No<\/td>\n",
       "      <td>No<\/td>\n",
       "      <td>No<\/td>\n",
       "      <td>No<\/td>\n",
       "      <td>Yes<\/td>\n",
       "      <td>Female<\/td>\n",
       "      <td>40-44<\/td>\n",
       "      <td>White<\/td>\n",
       "      <td>No<\/td>\n",
       "      <td>Yes<\/td>\n",
       "      <td>Very good<\/td>\n",
       "      <td>No<\/td>\n",
       "      <td>No<\/td>\n",
       "      <td>No<\/td>\n",
       "    <\/tr>\n",
       "  <\/tbody>\n",
       "<\/table>\n",
       "<\/div>"
      ]
     },
     "metadata":{
      
     },
     "output_type":"display_data"
    }
   ],
   "metadata":{
    "datalore":{
     "type":"CODE",
     "hide_input_from_viewers":false,
     "hide_output_from_viewers":false
    }
   }
  },
  {
   "cell_type":"code",
   "source":[
    "float_data = data.select_dtypes(include=['float64']).copy()\n",
    "float_data.head()"
   ],
   "execution_count":11,
   "outputs":[
    {
     "data":{
      "text\/html":[
       "<div>\n",
       "<style scoped>\n",
       "    .dataframe tbody tr th:only-of-type {\n",
       "        vertical-align: middle;\n",
       "    }\n",
       "\n",
       "    .dataframe tbody tr th {\n",
       "        vertical-align: top;\n",
       "    }\n",
       "\n",
       "    .dataframe thead th {\n",
       "        text-align: right;\n",
       "    }\n",
       "<\/style>\n",
       "<table border=\"1\" class=\"dataframe\">\n",
       "  <thead>\n",
       "    <tr style=\"text-align: right;\">\n",
       "      <th><\/th>\n",
       "      <th>BMI<\/th>\n",
       "      <th>PhysicalHealth<\/th>\n",
       "      <th>MentalHealth<\/th>\n",
       "      <th>SleepTime<\/th>\n",
       "    <\/tr>\n",
       "  <\/thead>\n",
       "  <tbody>\n",
       "    <tr>\n",
       "      <th>0<\/th>\n",
       "      <td>16.60<\/td>\n",
       "      <td>3.0<\/td>\n",
       "      <td>30.0<\/td>\n",
       "      <td>5.0<\/td>\n",
       "    <\/tr>\n",
       "    <tr>\n",
       "      <th>1<\/th>\n",
       "      <td>20.34<\/td>\n",
       "      <td>0.0<\/td>\n",
       "      <td>0.0<\/td>\n",
       "      <td>7.0<\/td>\n",
       "    <\/tr>\n",
       "    <tr>\n",
       "      <th>2<\/th>\n",
       "      <td>26.58<\/td>\n",
       "      <td>20.0<\/td>\n",
       "      <td>30.0<\/td>\n",
       "      <td>8.0<\/td>\n",
       "    <\/tr>\n",
       "    <tr>\n",
       "      <th>3<\/th>\n",
       "      <td>24.21<\/td>\n",
       "      <td>0.0<\/td>\n",
       "      <td>0.0<\/td>\n",
       "      <td>6.0<\/td>\n",
       "    <\/tr>\n",
       "    <tr>\n",
       "      <th>4<\/th>\n",
       "      <td>23.71<\/td>\n",
       "      <td>28.0<\/td>\n",
       "      <td>0.0<\/td>\n",
       "      <td>8.0<\/td>\n",
       "    <\/tr>\n",
       "  <\/tbody>\n",
       "<\/table>\n",
       "<\/div>"
      ]
     },
     "metadata":{
      
     },
     "output_type":"display_data"
    }
   ],
   "metadata":{
    "datalore":{
     "type":"CODE",
     "hide_input_from_viewers":false,
     "hide_output_from_viewers":false
    }
   }
  },
  {
   "cell_type":"markdown",
   "source":[
    "# Data Visualization"
   ],
   "attachments":{
    
   },
   "metadata":{
    "datalore":{
     "type":"MD",
     "hide_input_from_viewers":false,
     "hide_output_from_viewers":false
    }
   }
  },
  {
   "cell_type":"code",
   "source":[
    "\n",
    "f,ax = plt.subplots(4,1,figsize=(10,15))\n",
    "\n",
    "sns.countplot(data=data,x='GenHealth',hue='HeartDisease',ax=ax[0])\n",
    "sns.countplot(data=data,x='Race',hue='HeartDisease',ax=ax[1])\n",
    "sns.countplot(data=data,x='AgeCategory',hue='HeartDisease',ax=ax[2])\n",
    "sns.countplot(data=data,x='Smoking',hue='HeartDisease',ax=ax[3])"
   ],
   "execution_count":13,
   "outputs":[
    {
     "data":{
      "text\/plain":[
       "<AxesSubplot:xlabel='Smoking', ylabel='count'>"
      ],
      "image\/png":"[encoded data removed]"
     },
     "metadata":{
      "image\/png":{
       
      }
     },
     "output_type":"display_data"
    }
   ],
   "metadata":{
    "datalore":{
     "type":"CODE",
     "hide_input_from_viewers":false,
     "hide_output_from_viewers":false
    }
   }
  },
  {
   "cell_type":"markdown",
   "source":[
    "# Transformation for categorical value to Numerical value"
   ],
   "attachments":{
    
   },
   "metadata":{
    "datalore":{
     "type":"MD",
     "hide_input_from_viewers":false,
     "hide_output_from_viewers":false
    }
   }
  },
  {
   "cell_type":"code",
   "source":[
    "num = {\"No\": 0, \"Yes\": 1}\n",
    "num_diabetic = {\"No\": 0, \"Yes\": 1,\"No, borderline diabetes\": 2, \"Yes (during pregnancy)\": 3,}\n",
    "sex = {\"Female\": 0, \"Male\": 1}\n",
    "health = {\"Excellent\": 0, \"Very good\": 1, \"Good\": 2, \"Fair\": 3, \"Poor\": 4}\n",
    "age = {\"18-24\": 0, \"25-29\": 1, \"30-34\": 2, \"35-39\": 3, \"40-44\": 4, \"45-49\": 5, \"50-54\": 6,\n",
    "       \"55-59\": 7, \"60-64\": 8, \"65-69\": 9, \"70-74\": 10, \"75-79\": 11, \"80 or older\" : 12,\n",
    "       }\n",
    "\n",
    "cleanup_nums = {\"HeartDisease\":num,\n",
    "                \"Smoking\":num, \n",
    "                \"AlcoholDrinking\":num,\n",
    "                \"Stroke\":num, \n",
    "                \"DiffWalking\":num,\n",
    "                \"Diabetic\":num_diabetic, \n",
    "                \"PhysicalActivity\":num,\n",
    "                \"Asthma\":num, \n",
    "                \"KidneyDisease\":num,\n",
    "                \"SkinCancer\":num,\n",
    "                \"Sex\":sex,\n",
    "                \"AgeCategory\":age,\n",
    "                \"GenHealth\":health, \n",
    "                }"
   ],
   "execution_count":28,
   "outputs":[
    
   ],
   "metadata":{
    "datalore":{
     "type":"CODE",
     "hide_input_from_viewers":false,
     "hide_output_from_viewers":false
    }
   }
  },
  {
   "cell_type":"code",
   "source":[
    "obj_data = obj_data.replace(cleanup_nums)\n",
    "obj_data.head()"
   ],
   "execution_count":15,
   "outputs":[
    {
     "data":{
      "text\/html":[
       "<div>\n",
       "<style scoped>\n",
       "    .dataframe tbody tr th:only-of-type {\n",
       "        vertical-align: middle;\n",
       "    }\n",
       "\n",
       "    .dataframe tbody tr th {\n",
       "        vertical-align: top;\n",
       "    }\n",
       "\n",
       "    .dataframe thead th {\n",
       "        text-align: right;\n",
       "    }\n",
       "<\/style>\n",
       "<table border=\"1\" class=\"dataframe\">\n",
       "  <thead>\n",
       "    <tr style=\"text-align: right;\">\n",
       "      <th><\/th>\n",
       "      <th>HeartDisease<\/th>\n",
       "      <th>Smoking<\/th>\n",
       "      <th>AlcoholDrinking<\/th>\n",
       "      <th>Stroke<\/th>\n",
       "      <th>DiffWalking<\/th>\n",
       "      <th>Sex<\/th>\n",
       "      <th>AgeCategory<\/th>\n",
       "      <th>Race<\/th>\n",
       "      <th>Diabetic<\/th>\n",
       "      <th>PhysicalActivity<\/th>\n",
       "      <th>GenHealth<\/th>\n",
       "      <th>Asthma<\/th>\n",
       "      <th>KidneyDisease<\/th>\n",
       "      <th>SkinCancer<\/th>\n",
       "    <\/tr>\n",
       "  <\/thead>\n",
       "  <tbody>\n",
       "    <tr>\n",
       "      <th>0<\/th>\n",
       "      <td>0<\/td>\n",
       "      <td>1<\/td>\n",
       "      <td>0<\/td>\n",
       "      <td>0<\/td>\n",
       "      <td>0<\/td>\n",
       "      <td>0<\/td>\n",
       "      <td>7<\/td>\n",
       "      <td>White<\/td>\n",
       "      <td>1<\/td>\n",
       "      <td>1<\/td>\n",
       "      <td>1<\/td>\n",
       "      <td>1<\/td>\n",
       "      <td>0<\/td>\n",
       "      <td>1<\/td>\n",
       "    <\/tr>\n",
       "    <tr>\n",
       "      <th>1<\/th>\n",
       "      <td>0<\/td>\n",
       "      <td>0<\/td>\n",
       "      <td>0<\/td>\n",
       "      <td>1<\/td>\n",
       "      <td>0<\/td>\n",
       "      <td>0<\/td>\n",
       "      <td>12<\/td>\n",
       "      <td>White<\/td>\n",
       "      <td>0<\/td>\n",
       "      <td>1<\/td>\n",
       "      <td>1<\/td>\n",
       "      <td>0<\/td>\n",
       "      <td>0<\/td>\n",
       "      <td>0<\/td>\n",
       "    <\/tr>\n",
       "    <tr>\n",
       "      <th>2<\/th>\n",
       "      <td>0<\/td>\n",
       "      <td>1<\/td>\n",
       "      <td>0<\/td>\n",
       "      <td>0<\/td>\n",
       "      <td>0<\/td>\n",
       "      <td>1<\/td>\n",
       "      <td>9<\/td>\n",
       "      <td>White<\/td>\n",
       "      <td>1<\/td>\n",
       "      <td>1<\/td>\n",
       "      <td>3<\/td>\n",
       "      <td>1<\/td>\n",
       "      <td>0<\/td>\n",
       "      <td>0<\/td>\n",
       "    <\/tr>\n",
       "    <tr>\n",
       "      <th>3<\/th>\n",
       "      <td>0<\/td>\n",
       "      <td>0<\/td>\n",
       "      <td>0<\/td>\n",
       "      <td>0<\/td>\n",
       "      <td>0<\/td>\n",
       "      <td>0<\/td>\n",
       "      <td>11<\/td>\n",
       "      <td>White<\/td>\n",
       "      <td>0<\/td>\n",
       "      <td>0<\/td>\n",
       "      <td>2<\/td>\n",
       "      <td>0<\/td>\n",
       "      <td>0<\/td>\n",
       "      <td>1<\/td>\n",
       "    <\/tr>\n",
       "    <tr>\n",
       "      <th>4<\/th>\n",
       "      <td>0<\/td>\n",
       "      <td>0<\/td>\n",
       "      <td>0<\/td>\n",
       "      <td>0<\/td>\n",
       "      <td>1<\/td>\n",
       "      <td>0<\/td>\n",
       "      <td>4<\/td>\n",
       "      <td>White<\/td>\n",
       "      <td>0<\/td>\n",
       "      <td>1<\/td>\n",
       "      <td>1<\/td>\n",
       "      <td>0<\/td>\n",
       "      <td>0<\/td>\n",
       "      <td>0<\/td>\n",
       "    <\/tr>\n",
       "  <\/tbody>\n",
       "<\/table>\n",
       "<\/div>"
      ]
     },
     "metadata":{
      
     },
     "output_type":"display_data"
    }
   ],
   "metadata":{
    "datalore":{
     "type":"CODE",
     "hide_input_from_viewers":false,
     "hide_output_from_viewers":false
    }
   }
  },
  {
   "cell_type":"markdown",
   "source":[
    "# Link Tables"
   ],
   "attachments":{
    
   },
   "metadata":{
    "datalore":{
     "type":"MD",
     "hide_input_from_viewers":false,
     "hide_output_from_viewers":false
    }
   }
  },
  {
   "cell_type":"code",
   "source":[
    "data = pd.concat([obj_data, float_data], axis=1)\n",
    "data.head(10)"
   ],
   "execution_count":31,
   "outputs":[
    {
     "data":{
      "text\/html":[
       "<div>\n",
       "<style scoped>\n",
       "    .dataframe tbody tr th:only-of-type {\n",
       "        vertical-align: middle;\n",
       "    }\n",
       "\n",
       "    .dataframe tbody tr th {\n",
       "        vertical-align: top;\n",
       "    }\n",
       "\n",
       "    .dataframe thead th {\n",
       "        text-align: right;\n",
       "    }\n",
       "<\/style>\n",
       "<table border=\"1\" class=\"dataframe\">\n",
       "  <thead>\n",
       "    <tr style=\"text-align: right;\">\n",
       "      <th><\/th>\n",
       "      <th>HeartDisease<\/th>\n",
       "      <th>Smoking<\/th>\n",
       "      <th>AlcoholDrinking<\/th>\n",
       "      <th>Stroke<\/th>\n",
       "      <th>DiffWalking<\/th>\n",
       "      <th>Sex<\/th>\n",
       "      <th>AgeCategory<\/th>\n",
       "      <th>Race<\/th>\n",
       "      <th>Diabetic<\/th>\n",
       "      <th>PhysicalActivity<\/th>\n",
       "      <th>GenHealth<\/th>\n",
       "      <th>Asthma<\/th>\n",
       "      <th>KidneyDisease<\/th>\n",
       "      <th>SkinCancer<\/th>\n",
       "      <th>BMI<\/th>\n",
       "      <th>PhysicalHealth<\/th>\n",
       "      <th>MentalHealth<\/th>\n",
       "      <th>SleepTime<\/th>\n",
       "    <\/tr>\n",
       "  <\/thead>\n",
       "  <tbody>\n",
       "    <tr>\n",
       "      <th>0<\/th>\n",
       "      <td>0<\/td>\n",
       "      <td>1<\/td>\n",
       "      <td>0<\/td>\n",
       "      <td>0<\/td>\n",
       "      <td>0<\/td>\n",
       "      <td>0<\/td>\n",
       "      <td>7<\/td>\n",
       "      <td>White<\/td>\n",
       "      <td>1<\/td>\n",
       "      <td>1<\/td>\n",
       "      <td>1<\/td>\n",
       "      <td>1<\/td>\n",
       "      <td>0<\/td>\n",
       "      <td>1<\/td>\n",
       "      <td>16.60<\/td>\n",
       "      <td>3.0<\/td>\n",
       "      <td>30.0<\/td>\n",
       "      <td>5.0<\/td>\n",
       "    <\/tr>\n",
       "    <tr>\n",
       "      <th>1<\/th>\n",
       "      <td>0<\/td>\n",
       "      <td>0<\/td>\n",
       "      <td>0<\/td>\n",
       "      <td>1<\/td>\n",
       "      <td>0<\/td>\n",
       "      <td>0<\/td>\n",
       "      <td>12<\/td>\n",
       "      <td>White<\/td>\n",
       "      <td>0<\/td>\n",
       "      <td>1<\/td>\n",
       "      <td>1<\/td>\n",
       "      <td>0<\/td>\n",
       "      <td>0<\/td>\n",
       "      <td>0<\/td>\n",
       "      <td>20.34<\/td>\n",
       "      <td>0.0<\/td>\n",
       "      <td>0.0<\/td>\n",
       "      <td>7.0<\/td>\n",
       "    <\/tr>\n",
       "    <tr>\n",
       "      <th>2<\/th>\n",
       "      <td>0<\/td>\n",
       "      <td>1<\/td>\n",
       "      <td>0<\/td>\n",
       "      <td>0<\/td>\n",
       "      <td>0<\/td>\n",
       "      <td>1<\/td>\n",
       "      <td>9<\/td>\n",
       "      <td>White<\/td>\n",
       "      <td>1<\/td>\n",
       "      <td>1<\/td>\n",
       "      <td>3<\/td>\n",
       "      <td>1<\/td>\n",
       "      <td>0<\/td>\n",
       "      <td>0<\/td>\n",
       "      <td>26.58<\/td>\n",
       "      <td>20.0<\/td>\n",
       "      <td>30.0<\/td>\n",
       "      <td>8.0<\/td>\n",
       "    <\/tr>\n",
       "    <tr>\n",
       "      <th>3<\/th>\n",
       "      <td>0<\/td>\n",
       "      <td>0<\/td>\n",
       "      <td>0<\/td>\n",
       "      <td>0<\/td>\n",
       "      <td>0<\/td>\n",
       "      <td>0<\/td>\n",
       "      <td>11<\/td>\n",
       "      <td>White<\/td>\n",
       "      <td>0<\/td>\n",
       "      <td>0<\/td>\n",
       "      <td>2<\/td>\n",
       "      <td>0<\/td>\n",
       "      <td>0<\/td>\n",
       "      <td>1<\/td>\n",
       "      <td>24.21<\/td>\n",
       "      <td>0.0<\/td>\n",
       "      <td>0.0<\/td>\n",
       "      <td>6.0<\/td>\n",
       "    <\/tr>\n",
       "    <tr>\n",
       "      <th>4<\/th>\n",
       "      <td>0<\/td>\n",
       "      <td>0<\/td>\n",
       "      <td>0<\/td>\n",
       "      <td>0<\/td>\n",
       "      <td>1<\/td>\n",
       "      <td>0<\/td>\n",
       "      <td>4<\/td>\n",
       "      <td>White<\/td>\n",
       "      <td>0<\/td>\n",
       "      <td>1<\/td>\n",
       "      <td>1<\/td>\n",
       "      <td>0<\/td>\n",
       "      <td>0<\/td>\n",
       "      <td>0<\/td>\n",
       "      <td>23.71<\/td>\n",
       "      <td>28.0<\/td>\n",
       "      <td>0.0<\/td>\n",
       "      <td>8.0<\/td>\n",
       "    <\/tr>\n",
       "    <tr>\n",
       "      <th>5<\/th>\n",
       "      <td>1<\/td>\n",
       "      <td>1<\/td>\n",
       "      <td>0<\/td>\n",
       "      <td>0<\/td>\n",
       "      <td>1<\/td>\n",
       "      <td>0<\/td>\n",
       "      <td>11<\/td>\n",
       "      <td>Black<\/td>\n",
       "      <td>0<\/td>\n",
       "      <td>0<\/td>\n",
       "      <td>3<\/td>\n",
       "      <td>0<\/td>\n",
       "      <td>0<\/td>\n",
       "      <td>0<\/td>\n",
       "      <td>28.87<\/td>\n",
       "      <td>6.0<\/td>\n",
       "      <td>0.0<\/td>\n",
       "      <td>12.0<\/td>\n",
       "    <\/tr>\n",
       "    <tr>\n",
       "      <th>6<\/th>\n",
       "      <td>0<\/td>\n",
       "      <td>0<\/td>\n",
       "      <td>0<\/td>\n",
       "      <td>0<\/td>\n",
       "      <td>0<\/td>\n",
       "      <td>0<\/td>\n",
       "      <td>10<\/td>\n",
       "      <td>White<\/td>\n",
       "      <td>0<\/td>\n",
       "      <td>1<\/td>\n",
       "      <td>3<\/td>\n",
       "      <td>1<\/td>\n",
       "      <td>0<\/td>\n",
       "      <td>1<\/td>\n",
       "      <td>21.63<\/td>\n",
       "      <td>15.0<\/td>\n",
       "      <td>0.0<\/td>\n",
       "      <td>4.0<\/td>\n",
       "    <\/tr>\n",
       "    <tr>\n",
       "      <th>7<\/th>\n",
       "      <td>0<\/td>\n",
       "      <td>1<\/td>\n",
       "      <td>0<\/td>\n",
       "      <td>0<\/td>\n",
       "      <td>1<\/td>\n",
       "      <td>0<\/td>\n",
       "      <td>12<\/td>\n",
       "      <td>White<\/td>\n",
       "      <td>1<\/td>\n",
       "      <td>0<\/td>\n",
       "      <td>2<\/td>\n",
       "      <td>1<\/td>\n",
       "      <td>0<\/td>\n",
       "      <td>0<\/td>\n",
       "      <td>31.64<\/td>\n",
       "      <td>5.0<\/td>\n",
       "      <td>0.0<\/td>\n",
       "      <td>9.0<\/td>\n",
       "    <\/tr>\n",
       "    <tr>\n",
       "      <th>8<\/th>\n",
       "      <td>0<\/td>\n",
       "      <td>0<\/td>\n",
       "      <td>0<\/td>\n",
       "      <td>0<\/td>\n",
       "      <td>0<\/td>\n",
       "      <td>0<\/td>\n",
       "      <td>12<\/td>\n",
       "      <td>White<\/td>\n",
       "      <td>2<\/td>\n",
       "      <td>0<\/td>\n",
       "      <td>3<\/td>\n",
       "      <td>0<\/td>\n",
       "      <td>1<\/td>\n",
       "      <td>0<\/td>\n",
       "      <td>26.45<\/td>\n",
       "      <td>0.0<\/td>\n",
       "      <td>0.0<\/td>\n",
       "      <td>5.0<\/td>\n",
       "    <\/tr>\n",
       "    <tr>\n",
       "      <th>9<\/th>\n",
       "      <td>0<\/td>\n",
       "      <td>0<\/td>\n",
       "      <td>0<\/td>\n",
       "      <td>0<\/td>\n",
       "      <td>1<\/td>\n",
       "      <td>1<\/td>\n",
       "      <td>9<\/td>\n",
       "      <td>White<\/td>\n",
       "      <td>0<\/td>\n",
       "      <td>1<\/td>\n",
       "      <td>2<\/td>\n",
       "      <td>0<\/td>\n",
       "      <td>0<\/td>\n",
       "      <td>0<\/td>\n",
       "      <td>40.69<\/td>\n",
       "      <td>0.0<\/td>\n",
       "      <td>0.0<\/td>\n",
       "      <td>10.0<\/td>\n",
       "    <\/tr>\n",
       "  <\/tbody>\n",
       "<\/table>\n",
       "<\/div>"
      ]
     },
     "metadata":{
      
     },
     "output_type":"display_data"
    }
   ],
   "metadata":{
    "datalore":{
     "type":"CODE",
     "hide_input_from_viewers":false,
     "hide_output_from_viewers":false
    }
   }
  },
  {
   "cell_type":"code",
   "source":[
    "del data['Race']"
   ],
   "execution_count":33,
   "outputs":[
    {
     "ename":"KeyError",
     "evalue":"KeyError: 'Race'",
     "traceback":[
      "\u001b[0;31m---------------------------------------------------------------------------",
      "Traceback (most recent call last)",
      "    at line 1 in <module>",
      "    at line 3963 in __delitem__(self, key)",
      "    at line 3363 in get_loc(self, key, method, tolerance)",
      "KeyError: 'Race'"
     ],
     "output_type":"error"
    }
   ],
   "metadata":{
    "datalore":{
     "type":"CODE",
     "hide_input_from_viewers":false,
     "hide_output_from_viewers":false
    }
   }
  },
  {
   "cell_type":"code",
   "source":[
    "data.head(10)"
   ],
   "execution_count":34,
   "outputs":[
    {
     "data":{
      "text\/html":[
       "<div>\n",
       "<style scoped>\n",
       "    .dataframe tbody tr th:only-of-type {\n",
       "        vertical-align: middle;\n",
       "    }\n",
       "\n",
       "    .dataframe tbody tr th {\n",
       "        vertical-align: top;\n",
       "    }\n",
       "\n",
       "    .dataframe thead th {\n",
       "        text-align: right;\n",
       "    }\n",
       "<\/style>\n",
       "<table border=\"1\" class=\"dataframe\">\n",
       "  <thead>\n",
       "    <tr style=\"text-align: right;\">\n",
       "      <th><\/th>\n",
       "      <th>HeartDisease<\/th>\n",
       "      <th>Smoking<\/th>\n",
       "      <th>AlcoholDrinking<\/th>\n",
       "      <th>Stroke<\/th>\n",
       "      <th>DiffWalking<\/th>\n",
       "      <th>Sex<\/th>\n",
       "      <th>AgeCategory<\/th>\n",
       "      <th>Diabetic<\/th>\n",
       "      <th>PhysicalActivity<\/th>\n",
       "      <th>GenHealth<\/th>\n",
       "      <th>Asthma<\/th>\n",
       "      <th>KidneyDisease<\/th>\n",
       "      <th>SkinCancer<\/th>\n",
       "      <th>BMI<\/th>\n",
       "      <th>PhysicalHealth<\/th>\n",
       "      <th>MentalHealth<\/th>\n",
       "      <th>SleepTime<\/th>\n",
       "    <\/tr>\n",
       "  <\/thead>\n",
       "  <tbody>\n",
       "    <tr>\n",
       "      <th>0<\/th>\n",
       "      <td>0<\/td>\n",
       "      <td>1<\/td>\n",
       "      <td>0<\/td>\n",
       "      <td>0<\/td>\n",
       "      <td>0<\/td>\n",
       "      <td>0<\/td>\n",
       "      <td>7<\/td>\n",
       "      <td>1<\/td>\n",
       "      <td>1<\/td>\n",
       "      <td>1<\/td>\n",
       "      <td>1<\/td>\n",
       "      <td>0<\/td>\n",
       "      <td>1<\/td>\n",
       "      <td>16.60<\/td>\n",
       "      <td>3.0<\/td>\n",
       "      <td>30.0<\/td>\n",
       "      <td>5.0<\/td>\n",
       "    <\/tr>\n",
       "    <tr>\n",
       "      <th>1<\/th>\n",
       "      <td>0<\/td>\n",
       "      <td>0<\/td>\n",
       "      <td>0<\/td>\n",
       "      <td>1<\/td>\n",
       "      <td>0<\/td>\n",
       "      <td>0<\/td>\n",
       "      <td>12<\/td>\n",
       "      <td>0<\/td>\n",
       "      <td>1<\/td>\n",
       "      <td>1<\/td>\n",
       "      <td>0<\/td>\n",
       "      <td>0<\/td>\n",
       "      <td>0<\/td>\n",
       "      <td>20.34<\/td>\n",
       "      <td>0.0<\/td>\n",
       "      <td>0.0<\/td>\n",
       "      <td>7.0<\/td>\n",
       "    <\/tr>\n",
       "    <tr>\n",
       "      <th>2<\/th>\n",
       "      <td>0<\/td>\n",
       "      <td>1<\/td>\n",
       "      <td>0<\/td>\n",
       "      <td>0<\/td>\n",
       "      <td>0<\/td>\n",
       "      <td>1<\/td>\n",
       "      <td>9<\/td>\n",
       "      <td>1<\/td>\n",
       "      <td>1<\/td>\n",
       "      <td>3<\/td>\n",
       "      <td>1<\/td>\n",
       "      <td>0<\/td>\n",
       "      <td>0<\/td>\n",
       "      <td>26.58<\/td>\n",
       "      <td>20.0<\/td>\n",
       "      <td>30.0<\/td>\n",
       "      <td>8.0<\/td>\n",
       "    <\/tr>\n",
       "    <tr>\n",
       "      <th>3<\/th>\n",
       "      <td>0<\/td>\n",
       "      <td>0<\/td>\n",
       "      <td>0<\/td>\n",
       "      <td>0<\/td>\n",
       "      <td>0<\/td>\n",
       "      <td>0<\/td>\n",
       "      <td>11<\/td>\n",
       "      <td>0<\/td>\n",
       "      <td>0<\/td>\n",
       "      <td>2<\/td>\n",
       "      <td>0<\/td>\n",
       "      <td>0<\/td>\n",
       "      <td>1<\/td>\n",
       "      <td>24.21<\/td>\n",
       "      <td>0.0<\/td>\n",
       "      <td>0.0<\/td>\n",
       "      <td>6.0<\/td>\n",
       "    <\/tr>\n",
       "    <tr>\n",
       "      <th>4<\/th>\n",
       "      <td>0<\/td>\n",
       "      <td>0<\/td>\n",
       "      <td>0<\/td>\n",
       "      <td>0<\/td>\n",
       "      <td>1<\/td>\n",
       "      <td>0<\/td>\n",
       "      <td>4<\/td>\n",
       "      <td>0<\/td>\n",
       "      <td>1<\/td>\n",
       "      <td>1<\/td>\n",
       "      <td>0<\/td>\n",
       "      <td>0<\/td>\n",
       "      <td>0<\/td>\n",
       "      <td>23.71<\/td>\n",
       "      <td>28.0<\/td>\n",
       "      <td>0.0<\/td>\n",
       "      <td>8.0<\/td>\n",
       "    <\/tr>\n",
       "    <tr>\n",
       "      <th>5<\/th>\n",
       "      <td>1<\/td>\n",
       "      <td>1<\/td>\n",
       "      <td>0<\/td>\n",
       "      <td>0<\/td>\n",
       "      <td>1<\/td>\n",
       "      <td>0<\/td>\n",
       "      <td>11<\/td>\n",
       "      <td>0<\/td>\n",
       "      <td>0<\/td>\n",
       "      <td>3<\/td>\n",
       "      <td>0<\/td>\n",
       "      <td>0<\/td>\n",
       "      <td>0<\/td>\n",
       "      <td>28.87<\/td>\n",
       "      <td>6.0<\/td>\n",
       "      <td>0.0<\/td>\n",
       "      <td>12.0<\/td>\n",
       "    <\/tr>\n",
       "    <tr>\n",
       "      <th>6<\/th>\n",
       "      <td>0<\/td>\n",
       "      <td>0<\/td>\n",
       "      <td>0<\/td>\n",
       "      <td>0<\/td>\n",
       "      <td>0<\/td>\n",
       "      <td>0<\/td>\n",
       "      <td>10<\/td>\n",
       "      <td>0<\/td>\n",
       "      <td>1<\/td>\n",
       "      <td>3<\/td>\n",
       "      <td>1<\/td>\n",
       "      <td>0<\/td>\n",
       "      <td>1<\/td>\n",
       "      <td>21.63<\/td>\n",
       "      <td>15.0<\/td>\n",
       "      <td>0.0<\/td>\n",
       "      <td>4.0<\/td>\n",
       "    <\/tr>\n",
       "    <tr>\n",
       "      <th>7<\/th>\n",
       "      <td>0<\/td>\n",
       "      <td>1<\/td>\n",
       "      <td>0<\/td>\n",
       "      <td>0<\/td>\n",
       "      <td>1<\/td>\n",
       "      <td>0<\/td>\n",
       "      <td>12<\/td>\n",
       "      <td>1<\/td>\n",
       "      <td>0<\/td>\n",
       "      <td>2<\/td>\n",
       "      <td>1<\/td>\n",
       "      <td>0<\/td>\n",
       "      <td>0<\/td>\n",
       "      <td>31.64<\/td>\n",
       "      <td>5.0<\/td>\n",
       "      <td>0.0<\/td>\n",
       "      <td>9.0<\/td>\n",
       "    <\/tr>\n",
       "    <tr>\n",
       "      <th>8<\/th>\n",
       "      <td>0<\/td>\n",
       "      <td>0<\/td>\n",
       "      <td>0<\/td>\n",
       "      <td>0<\/td>\n",
       "      <td>0<\/td>\n",
       "      <td>0<\/td>\n",
       "      <td>12<\/td>\n",
       "      <td>2<\/td>\n",
       "      <td>0<\/td>\n",
       "      <td>3<\/td>\n",
       "      <td>0<\/td>\n",
       "      <td>1<\/td>\n",
       "      <td>0<\/td>\n",
       "      <td>26.45<\/td>\n",
       "      <td>0.0<\/td>\n",
       "      <td>0.0<\/td>\n",
       "      <td>5.0<\/td>\n",
       "    <\/tr>\n",
       "    <tr>\n",
       "      <th>9<\/th>\n",
       "      <td>0<\/td>\n",
       "      <td>0<\/td>\n",
       "      <td>0<\/td>\n",
       "      <td>0<\/td>\n",
       "      <td>1<\/td>\n",
       "      <td>1<\/td>\n",
       "      <td>9<\/td>\n",
       "      <td>0<\/td>\n",
       "      <td>1<\/td>\n",
       "      <td>2<\/td>\n",
       "      <td>0<\/td>\n",
       "      <td>0<\/td>\n",
       "      <td>0<\/td>\n",
       "      <td>40.69<\/td>\n",
       "      <td>0.0<\/td>\n",
       "      <td>0.0<\/td>\n",
       "      <td>10.0<\/td>\n",
       "    <\/tr>\n",
       "  <\/tbody>\n",
       "<\/table>\n",
       "<\/div>"
      ]
     },
     "metadata":{
      
     },
     "output_type":"display_data"
    }
   ],
   "metadata":{
    "datalore":{
     "type":"CODE",
     "hide_input_from_viewers":false,
     "hide_output_from_viewers":false
    }
   }
  },
  {
   "cell_type":"markdown",
   "source":[
    "# Data Preprocessing before Undersampling "
   ],
   "attachments":{
    
   },
   "metadata":{
    "datalore":{
     "type":"MD",
     "hide_input_from_viewers":false,
     "hide_output_from_viewers":false
    }
   }
  },
  {
   "cell_type":"code",
   "source":[
    "target = 'HeartDisease'"
   ],
   "execution_count":35,
   "outputs":[
    
   ],
   "metadata":{
    "datalore":{
     "type":"CODE",
     "hide_input_from_viewers":false,
     "hide_output_from_viewers":false
    }
   }
  },
  {
   "cell_type":"code",
   "source":[
    "X = data.loc[:, data.columns != target ]"
   ],
   "execution_count":36,
   "outputs":[
    
   ],
   "metadata":{
    "datalore":{
     "type":"CODE",
     "hide_input_from_viewers":false,
     "hide_output_from_viewers":false
    }
   }
  },
  {
   "cell_type":"code",
   "source":[
    "Y = data.loc[:, data.columns == target ]"
   ],
   "execution_count":37,
   "outputs":[
    
   ],
   "metadata":{
    "datalore":{
     "type":"CODE",
     "hide_input_from_viewers":false,
     "hide_output_from_viewers":false
    }
   }
  },
  {
   "cell_type":"code",
   "source":[
    "x_train, x_test, y_train, y_test, = train_test_split(X, Y, test_size=0.33 , random_state=42)"
   ],
   "execution_count":38,
   "outputs":[
    
   ],
   "metadata":{
    "datalore":{
     "type":"CODE",
     "hide_input_from_viewers":false,
     "hide_output_from_viewers":false
    }
   }
  },
  {
   "cell_type":"code",
   "source":[
    "ax = sns.countplot(x=target, data=data)\n",
    "print(data[target].value_counts())"
   ],
   "execution_count":39,
   "outputs":[
    {
     "name":"stdout",
     "text":[
      "0    292422\n",
      "1     27373\n",
      "Name: HeartDisease, dtype: int64\n"
     ],
     "output_type":"stream"
    },
    {
     "data":{
      "image\/png":"[encoded data removed]"
     },
     "metadata":{
      "image\/png":{
       
      }
     },
     "output_type":"display_data"
    }
   ],
   "metadata":{
    "datalore":{
     "type":"CODE",
     "hide_input_from_viewers":false,
     "hide_output_from_viewers":false
    }
   }
  },
  {
   "cell_type":"markdown",
   "source":[
    "# Modelling before Undersampling "
   ],
   "attachments":{
    
   },
   "metadata":{
    "datalore":{
     "type":"MD",
     "hide_input_from_viewers":false,
     "hide_output_from_viewers":false
    }
   }
  },
  {
   "cell_type":"code",
   "source":[
    "\n",
    "lr = LogisticRegression(solver='lbfgs', max_iter=1000 ).fit(x_train, y_train.values.ravel())"
   ],
   "execution_count":40,
   "outputs":[
    
   ],
   "metadata":{
    "datalore":{
     "type":"CODE",
     "hide_input_from_viewers":false,
     "hide_output_from_viewers":false
    }
   }
  },
  {
   "cell_type":"code",
   "source":[
    "y_test_perd = lr.predict(x_test)"
   ],
   "execution_count":24,
   "outputs":[
    
   ],
   "metadata":{
    "datalore":{
     "type":"CODE",
     "hide_input_from_viewers":false,
     "hide_output_from_viewers":false
    }
   }
  },
  {
   "cell_type":"code",
   "source":[
    "print(classification_report(y_test,y_test_perd))"
   ],
   "execution_count":25,
   "outputs":[
    {
     "name":"stdout",
     "text":[
      "              precision    recall  f1-score   support\n",
      "\n",
      "           0       0.92      0.99      0.95     96385\n",
      "           1       0.52      0.10      0.17      9148\n",
      "\n",
      "    accuracy                           0.91    105533\n",
      "   macro avg       0.72      0.55      0.56    105533\n",
      "weighted avg       0.89      0.91      0.89    105533\n",
      "\n"
     ],
     "output_type":"stream"
    }
   ],
   "metadata":{
    "datalore":{
     "type":"CODE",
     "hide_input_from_viewers":false,
     "hide_output_from_viewers":false
    }
   }
  },
  {
   "cell_type":"markdown",
   "source":[
    "# Undersampling "
   ],
   "attachments":{
    
   },
   "metadata":{
    "datalore":{
     "type":"MD",
     "hide_input_from_viewers":false,
     "hide_output_from_viewers":false
    }
   }
  },
  {
   "cell_type":"code",
   "source":[
    "minority_class_len = len(data[data[target] == 1])"
   ],
   "execution_count":41,
   "outputs":[
    
   ],
   "metadata":{
    "datalore":{
     "type":"CODE",
     "hide_input_from_viewers":false,
     "hide_output_from_viewers":false
    }
   }
  },
  {
   "cell_type":"code",
   "source":[
    "len(data[data[target] == 1])"
   ],
   "execution_count":42,
   "outputs":[
    {
     "data":{
      "text\/plain":[
       "27373"
      ]
     },
     "metadata":{
      
     },
     "output_type":"display_data"
    }
   ],
   "metadata":{
    "datalore":{
     "type":"CODE",
     "hide_input_from_viewers":false,
     "hide_output_from_viewers":false
    }
   }
  },
  {
   "cell_type":"code",
   "source":[
    "minority_class_indices = data[data[target] == 0].index\n",
    "print(minority_class_indices)"
   ],
   "execution_count":43,
   "outputs":[
    {
     "name":"stdout",
     "text":[
      "Int64Index([     0,      1,      2,      3,      4,      6,      7,      8,\n",
      "                 9,     11,\n",
      "            ...\n",
      "            319783, 319784, 319785, 319787, 319788, 319789, 319791, 319792,\n",
      "            319793, 319794],\n",
      "           dtype='int64', length=292422)\n"
     ],
     "output_type":"stream"
    }
   ],
   "metadata":{
    "datalore":{
     "type":"CODE",
     "hide_input_from_viewers":false,
     "hide_output_from_viewers":false
    }
   }
  },
  {
   "cell_type":"code",
   "source":[
    "rondom = np.random.choice(minority_class_indices, minority_class_len, replace=False)\n",
    "print(len(rondom))"
   ],
   "execution_count":44,
   "outputs":[
    {
     "name":"stdout",
     "text":[
      "27373\n"
     ],
     "output_type":"stream"
    }
   ],
   "metadata":{
    "datalore":{
     "type":"CODE",
     "hide_input_from_viewers":false,
     "hide_output_from_viewers":false
    }
   }
  },
  {
   "cell_type":"code",
   "source":[
    "minority_class_indices = data[data[target] == 1].index\n",
    "print(minority_class_indices)"
   ],
   "execution_count":45,
   "outputs":[
    {
     "name":"stdout",
     "text":[
      "Int64Index([     5,     10,     35,     42,     43,     45,     77,     78,\n",
      "               101,    127,\n",
      "            ...\n",
      "            319708, 319721, 319739, 319758, 319761, 319765, 319767, 319781,\n",
      "            319786, 319790],\n",
      "           dtype='int64', length=27373)\n"
     ],
     "output_type":"stream"
    }
   ],
   "metadata":{
    "datalore":{
     "type":"CODE",
     "hide_input_from_viewers":false,
     "hide_output_from_viewers":false
    }
   }
  },
  {
   "cell_type":"code",
   "source":[
    "u_s_i = np.concatenate([minority_class_indices, rondom ])"
   ],
   "execution_count":46,
   "outputs":[
    
   ],
   "metadata":{
    "datalore":{
     "type":"CODE",
     "hide_input_from_viewers":false,
     "hide_output_from_viewers":false
    }
   }
  },
  {
   "cell_type":"code",
   "source":[
    "u_s = data.loc[u_s_i]"
   ],
   "execution_count":47,
   "outputs":[
    
   ],
   "metadata":{
    "datalore":{
     "type":"CODE",
     "hide_input_from_viewers":false,
     "hide_output_from_viewers":false
    }
   }
  },
  {
   "cell_type":"code",
   "source":[
    "sns.countplot(x=target, data= u_s)"
   ],
   "execution_count":48,
   "outputs":[
    {
     "data":{
      "text\/plain":[
       "<AxesSubplot:xlabel='HeartDisease', ylabel='count'>"
      ],
      "image\/png":"[encoded data removed]"
     },
     "metadata":{
      "image\/png":{
       
      }
     },
     "output_type":"display_data"
    }
   ],
   "metadata":{
    "datalore":{
     "type":"CODE",
     "hide_input_from_viewers":false,
     "hide_output_from_viewers":false
    }
   }
  },
  {
   "cell_type":"markdown",
   "source":[
    "# Modelling after Undersampling "
   ],
   "attachments":{
    
   },
   "metadata":{
    "datalore":{
     "type":"MD",
     "hide_input_from_viewers":false,
     "hide_output_from_viewers":false
    }
   }
  },
  {
   "cell_type":"code",
   "source":[
    "X = u_s.loc[:, data.columns != target ]\n",
    "Y = u_s.loc[:, data.columns == target ]\n",
    "x_train, x_test, y_train, y_test, = train_test_split(X, Y, test_size=0.33 , random_state=42)\n",
    "lr = LogisticRegression(solver='lbfgs', max_iter=1000 ).fit(x_train, y_train.values.ravel())\n",
    "y_test_perd = lr.predict(x_test)\n",
    "print(classification_report(y_test,y_test_perd))"
   ],
   "execution_count":49,
   "outputs":[
    {
     "name":"stdout",
     "text":[
      "              precision    recall  f1-score   support\n",
      "\n",
      "           0       0.78      0.75      0.76      9027\n",
      "           1       0.76      0.79      0.77      9040\n",
      "\n",
      "    accuracy                           0.77     18067\n",
      "   macro avg       0.77      0.77      0.77     18067\n",
      "weighted avg       0.77      0.77      0.77     18067\n",
      "\n"
     ],
     "output_type":"stream"
    }
   ],
   "metadata":{
    "datalore":{
     "type":"CODE",
     "hide_input_from_viewers":false,
     "hide_output_from_viewers":false
    }
   }
  }
 ],
 "metadata":{
  "datalore":{
   "version":1,
   "computation_mode":"JUPYTER",
   "package_manager":"pip",
   "base_environment":"default",
   "packages":[
    {
     "name":"imblearn",
     "version":"0.0",
     "source":"PIP"
    }
   ]
  }
 },
 "nbformat":4,
 "nbformat_minor":4
}